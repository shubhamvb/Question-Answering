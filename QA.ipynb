{
 "cells": [
  {
   "cell_type": "code",
   "execution_count": 102,
   "metadata": {
    "collapsed": false
   },
   "outputs": [],
   "source": [
    "import json\n",
    "from nltk.tag.stanford import StanfordNERTagger\n",
    "\n",
    "def read_json(file):\n",
    "    with open(file, 'r') as f:\n",
    "        text = json.load(f)\n",
    "    return text\n",
    "\n",
    "def convert_input_to_dict(text):\n",
    "    data_length = len(text['data'])\n",
    "    context_list = list()\n",
    "    test_dict = dict()\n",
    "    for i in range(data_length):\n",
    "        data = text['data'][i]\n",
    "        para_length = len(data['paragraphs'])\n",
    "        para = data['paragraphs']\n",
    "        #print(para_length)\n",
    "        \n",
    "        for j in range(para_length):\n",
    "            key = len(context_list)\n",
    "            context_list.insert(key, para[j]['context'])\n",
    "            if key not in test_dict:\n",
    "                test_dict[key] = dict()\n",
    "                \n",
    "            qas_length = len(para[j]['qas'])\n",
    "            qas = para[j]['qas']\n",
    "            \n",
    "            for k in range(qas_length):\n",
    "                if qas[k]['question'] not in test_dict[key]:\n",
    "                    test_dict[key][qas[k]['question']] = dict()\n",
    "                test_dict[key][qas[k]['question']] = str(qas[k]['id'])\n",
    "                #print(str(qas[k]['question']) +\" : \" +str(qas[k]['id']))\n",
    "        \n",
    "    return test_dict, context_list\n",
    "    \n",
    "\n",
    "def generate_output_file(dictionary):\n",
    "    filename = \"output.json\"\n",
    "    with open(filename, 'w') as f:\n",
    "        json.dump(dictionary, f)\n",
    "    "
   ]
  },
  {
   "cell_type": "code",
   "execution_count": 103,
   "metadata": {
    "collapsed": false
   },
   "outputs": [
    {
     "name": "stdout",
     "output_type": "stream",
     "text": [
      "2578\n"
     ]
    }
   ],
   "source": [
    "def main():\n",
    "    \n",
    "    sample_file = \"sample.json\"\n",
    "    train_file = \"training.json\"\n",
    "    test_file = \"testing.json\"\n",
    "    \n",
    "    \n",
    "    sample_text = read_json(sample_file)\n",
    "    train_text = read_json(train_file)\n",
    "    test_text = read_json(test_file)\n",
    "    test_dict, context_list = convert_input_to_dict(test_text)\n",
    "    #print(test_dict[55])\n",
    "    print(len(context_list))\n",
    "    \n",
    "    dictionary = {\"5725cc2038643c19005acd1d\": \"and liquid\"}\n",
    "    generate_output_file(dictionary)\n",
    "    '''\n",
    "    st = StanfordNERTagger('/Users/shubhambarhate/Desktop/project3/stanford-ner-2017-06-09/classifiers/english.all.3class.distsim.crf.ser.gz',\n",
    "           '/Users/shubhambarhate/Desktop/project3/stanford-ner-2017-06-09/stanford-ner.jar')\n",
    "    print(st.tag(context_list[0].split()))\n",
    "    '''\n",
    "    \n",
    "    \n",
    "main()"
   ]
  },
  {
   "cell_type": "code",
   "execution_count": null,
   "metadata": {
    "collapsed": true
   },
   "outputs": [],
   "source": []
  }
 ],
 "metadata": {
  "kernelspec": {
   "display_name": "Python 3",
   "language": "python",
   "name": "python3"
  },
  "language_info": {
   "codemirror_mode": {
    "name": "ipython",
    "version": 3
   },
   "file_extension": ".py",
   "mimetype": "text/x-python",
   "name": "python",
   "nbconvert_exporter": "python",
   "pygments_lexer": "ipython3",
   "version": "3.6.0"
  }
 },
 "nbformat": 4,
 "nbformat_minor": 2
}
